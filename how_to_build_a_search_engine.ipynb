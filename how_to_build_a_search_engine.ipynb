{
  "cells": [
    {
      "cell_type": "markdown",
      "source": [
        "# How To Build a Search Engine\n",
        "\n",
        "\n"
      ],
      "metadata": {
        "id": "lz4l5vQ_tYnT"
      }
    },
    {
      "cell_type": "markdown",
      "metadata": {
        "id": "NRT7XJT_n5cB"
      },
      "source": [
        "## Step 1: The Crawler - Finding Links, Content & Getting Pages"
      ]
    },
    {
      "cell_type": "code",
      "execution_count": null,
      "metadata": {
        "id": "Dbkzc3_mn5cC"
      },
      "outputs": [],
      "source": [
        "import requests\n",
        "\n",
        "main_subject = 'SEO'\n",
        "\n",
        "url = 'https://en.wikipedia.org/w/api.php'\n",
        "params = {\n",
        "        'action': 'query',\n",
        "        'format': 'json',\n",
        "        'generator':'links',\n",
        "        'titles': main_subject,\n",
        "        'prop':'pageprops',\n",
        "        'ppprop':'wikibase_item',\n",
        "        'gpllimit':1000,\n",
        "        'redirects':1\n",
        "        }\n",
        "\n",
        "r = requests.get(url, params=params)\n",
        "r_json = r.json()\n",
        "linked_pages = r_json['query']['pages']\n",
        "\n",
        "links = [p['title'] for p in linked_pages.values()]"
      ]
    },
    {
      "cell_type": "markdown",
      "source": [
        "## Show All Page Links"
      ],
      "metadata": {
        "id": "wSgKmZ-yugRZ"
      }
    },
    {
      "cell_type": "code",
      "source": [
        "links"
      ],
      "metadata": {
        "colab": {
          "base_uri": "https://localhost:8080/"
        },
        "id": "BA16Zn92urL4",
        "outputId": "8c228f53-8cb4-45ff-80bf-b136e5f80abf"
      },
      "execution_count": null,
      "outputs": [
        {
          "output_type": "execute_result",
          "data": {
            "text/plain": [
              "['File:Search engine optimization.ogg',\n",
              " 'A List Apart',\n",
              " 'Ad blocking',\n",
              " 'Affiliate marketing',\n",
              " 'Algorithm',\n",
              " 'BERT (language model)',\n",
              " 'BMW',\n",
              " 'Backlink',\n",
              " 'Baidu',\n",
              " 'Barry Schwartz (technologist)',\n",
              " 'Browser engine',\n",
              " 'CNET',\n",
              " 'Cache (computing)',\n",
              " 'Canonical link element',\n",
              " 'Chromium (web browser)',\n",
              " 'Cloaking',\n",
              " 'Competitor backlinking',\n",
              " 'Content farm',\n",
              " 'Content marketing',\n",
              " 'Contextual advertising',\n",
              " 'Cost per action',\n",
              " 'Cost per impression',\n",
              " 'DMOZ',\n",
              " 'Danny Sullivan (technologist)',\n",
              " 'Data model',\n",
              " 'Diagram',\n",
              " 'Email marketing',\n",
              " 'Federal Rules of Civil Procedure',\n",
              " 'Flash animation',\n",
              " 'Forbes',\n",
              " 'Gaming the system',\n",
              " 'Geotargeting',\n",
              " 'Google',\n",
              " 'Google Chrome',\n",
              " 'Google Hummingbird',\n",
              " 'Google I/O',\n",
              " 'Google Panda',\n",
              " 'Google Penguin',\n",
              " 'Google Search Console',\n",
              " 'Grey hat',\n",
              " 'HTML',\n",
              " 'HTTPS',\n",
              " 'Hitwise',\n",
              " 'Human search engine',\n",
              " 'IP address',\n",
              " 'Infoseek',\n",
              " 'Internet',\n",
              " 'Jakob Nielsen (usability consultant)',\n",
              " 'JavaScript',\n",
              " 'Jill Whalen',\n",
              " 'Keyword density',\n",
              " 'Keyword research',\n",
              " 'Larry Page',\n",
              " 'Link building',\n",
              " 'Link exchange',\n",
              " 'Link farm',\n",
              " 'List of search engines',\n",
              " 'Local search engine optimisation',\n",
              " 'Matt Cutts',\n",
              " 'Meta element',\n",
              " 'Metadata',\n",
              " 'Microsoft Bing',\n",
              " 'Mobile advertising',\n",
              " 'Mobile device',\n",
              " 'Mobile local search',\n",
              " 'Native advertising',\n",
              " 'Naver',\n",
              " 'Nofollow',\n",
              " 'Online advertising',\n",
              " 'Online identity management',\n",
              " 'Open source',\n",
              " 'Organic linking',\n",
              " 'PageRank',\n",
              " 'Paid inclusion',\n",
              " 'Parsing',\n",
              " 'Pay-per-click',\n",
              " 'Ranking (information retrieval)',\n",
              " 'Referral marketing',\n",
              " 'Responsive web design',\n",
              " 'Return on investment',\n",
              " 'Revenue sharing',\n",
              " 'Ricoh',\n",
              " 'Robots exclusion standard',\n",
              " 'Root directory',\n",
              " 'San Jose, California',\n",
              " 'Scraper site',\n",
              " 'Search Engine Watch',\n",
              " 'Search analytics',\n",
              " 'Search engine indexing',\n",
              " 'Search engine marketing',\n",
              " 'Search engine results page',\n",
              " 'Search neutrality',\n",
              " 'Sergey Brin',\n",
              " 'Sitemaps',\n",
              " 'Social media marketing',\n",
              " 'Social media optimization',\n",
              " 'Spamdexing',\n",
              " 'Spider web',\n",
              " 'Stanford University',\n",
              " 'StatCounter',\n",
              " 'Stop word',\n",
              " 'Sunset provision',\n",
              " 'The Guardian',\n",
              " 'The New York Times',\n",
              " 'Tortious interference',\n",
              " 'Traffic Power',\n",
              " 'United States District Court for the Northern District of California',\n",
              " 'United States district court',\n",
              " 'User intent',\n",
              " 'Vanessa Fox',\n",
              " 'Vertical search',\n",
              " 'Web accessibility',\n",
              " 'Web analytics',\n",
              " 'Web crawler',\n",
              " 'Web page',\n",
              " 'Web scraping',\n",
              " 'Web traffic',\n",
              " 'Webmaster',\n",
              " 'Website',\n",
              " 'Website promotion',\n",
              " 'White hat (computer security)',\n",
              " 'Wired (magazine)',\n",
              " 'World Wide Web',\n",
              " 'Yahoo! Directory',\n",
              " 'Yahoo! Japan',\n",
              " 'Yandex',\n",
              " 'YouTube',\n",
              " 'Talk:Search engine optimization',\n",
              " 'Wikipedia:Accuracy dispute',\n",
              " 'Wikipedia:Protection policy',\n",
              " 'Wikipedia:Spoken articles',\n",
              " 'Template:Cite web',\n",
              " 'Template:Internet marketing',\n",
              " 'Template:Search engine optimization',\n",
              " 'Template talk:Internet marketing',\n",
              " 'Template talk:Search engine optimization',\n",
              " 'Help:Authority control',\n",
              " 'Category:Articles with GND identifiers',\n",
              " 'Category:Articles with NDL identifiers',\n",
              " 'Category:Articles with PLWABN identifiers',\n",
              " 'Category:Articles with disputed statements from October 2012',\n",
              " 'Category:CS1 maint: multiple names: authors list',\n",
              " 'Category:Use mdy dates from September 2012',\n",
              " 'ALIWEB',\n",
              " 'AltaVista',\n",
              " 'Bing Webmaster Tools',\n",
              " 'Black hat (computer security)',\n",
              " 'Blogger (service)',\n",
              " 'Conversion marketing',\n",
              " 'Digital display advertising',\n",
              " 'Digital marketing',\n",
              " 'Digital object identifier',\n",
              " 'Div and span',\n",
              " 'Google Search',\n",
              " 'Google bombing',\n",
              " 'HTML element',\n",
              " 'HTTP 301',\n",
              " 'ISBN',\n",
              " 'Image retrieval',\n",
              " 'Inc. (magazine)',\n",
              " 'Inktomi',\n",
              " 'List of academic databases and search engines',\n",
              " 'Organic search results',\n",
              " 'ProQuest',\n",
              " 'Search engine',\n",
              " 'Search engine optimization',\n",
              " 'Semantic Scholar',\n",
              " 'Seo',\n",
              " 'Seznam.cz',\n",
              " 'Site map',\n",
              " 'Targeted advertising',\n",
              " 'The Wall Street Journal',\n",
              " 'Top-level domain',\n",
              " 'Translation',\n",
              " 'URL',\n",
              " 'Video search engine',\n",
              " 'Virtual assistant',\n",
              " 'Web hosting service',\n",
              " 'Yahoo!',\n",
              " 'Help:Media']"
            ]
          },
          "metadata": {},
          "execution_count": 7
        }
      ]
    },
    {
      "cell_type": "code",
      "source": [
        "print(f'Total number of links in the SEO page are: {len(links)}')"
      ],
      "metadata": {
        "id": "ljlHg257vYuJ",
        "outputId": "b806dcef-bcd9-4994-87d6-809fce377084",
        "colab": {
          "base_uri": "https://localhost:8080/"
        }
      },
      "execution_count": null,
      "outputs": [
        {
          "output_type": "stream",
          "name": "stdout",
          "text": [
            "Total number of links in the SEO page are: 180\n"
          ]
        }
      ]
    },
    {
      "cell_type": "markdown",
      "metadata": {
        "id": "SIffvxs2n5cI"
      },
      "source": [
        "## Get Pages"
      ]
    },
    {
      "cell_type": "code",
      "execution_count": null,
      "metadata": {
        "colab": {
          "referenced_widgets": [
            "6f1801fcfbd142fba939e25743f2cdef",
            "876852482a654e4aa435881b7ef423d0",
            "6ba875cbdaca42ae94b5f1c9368ddb45",
            "af6655fc084a45f1be7569172650f50c",
            "24657ed68b684d608478eac9667bc491",
            "db2f3bf088234376b5c553e00aa122b2",
            "13125d759a3949d5a341bfdc2c14ba67",
            "5dff69d5215d480a8f07afb3dfefe0ce",
            "6f6d3bb749e74952bed0e36790e07502",
            "9287d8ebeea44143a1b7a9930b885496",
            "bcd727b10a634a3f9fe92c5a466b37a0"
          ],
          "base_uri": "https://localhost:8080/",
          "height": 85
        },
        "id": "cI9eJuwmn5cI",
        "outputId": "857fad83-d2c3-4d5c-d100-af63ab39a38e"
      },
      "outputs": [
        {
          "output_type": "display_data",
          "data": {
            "text/plain": [
              "  0%|          | 0/181 [00:00<?, ?it/s]"
            ],
            "application/vnd.jupyter.widget-view+json": {
              "version_major": 2,
              "version_minor": 0,
              "model_id": "6f1801fcfbd142fba939e25743f2cdef"
            }
          },
          "metadata": {}
        },
        {
          "output_type": "stream",
          "name": "stdout",
          "text": [
            "Error Retrieving Page - Dropped From Index\n",
            "Done\n"
          ]
        }
      ],
      "source": [
        "import requests\n",
        "from lxml import html\n",
        "from tqdm.notebook import tqdm\n",
        "text_db = []\n",
        "pages_db = []\n",
        "num_articles = len(links)\n",
        "pages = links[:num_articles]\n",
        "pages += [main_subject]\n",
        "pages = list(set(pages))\n",
        "for page in tqdm(pages):\n",
        "    try:\n",
        "        response = requests.get('https://en.wikipedia.org/w/api.php',\n",
        "                                params={'action': 'parse',\n",
        "                                        'page': page,\n",
        "                                        'format': 'json',\n",
        "                                        'prop':'text',\n",
        "                                        'redirects':''}).json()\n",
        "        raw_html = response['parse']['text']['*']\n",
        "        document = html.document_fromstring(raw_html)\n",
        "        text = ''\n",
        "        for p in document.xpath('//p'):\n",
        "            text += p.text_content()\n",
        "        text_db.append(text)\n",
        "        pages_db.append(page)\n",
        "    except KeyError:\n",
        "        print('Error Retrieving Page - Dropped From Index')\n",
        "        continue\n",
        "print('Done')"
      ]
    },
    {
      "cell_type": "markdown",
      "source": [
        "##Show Page Content"
      ],
      "metadata": {
        "id": "RLoWoQpc1Sz5"
      }
    },
    {
      "cell_type": "code",
      "source": [
        "text_db[150] #keyword research example"
      ],
      "metadata": {
        "id": "mE19ZBvBx5vF",
        "outputId": "764d478e-1890-426e-aa44-c26554bb1ceb",
        "colab": {
          "base_uri": "https://localhost:8080/",
          "height": 124
        }
      },
      "execution_count": null,
      "outputs": [
        {
          "output_type": "execute_result",
          "data": {
            "text/plain": [
              "'Search neutrality is a principle that search engines should have no editorial policies other than that their results be comprehensive, impartial and based solely on relevance.[1] This means that when a user types in a search engine query, the engine should return the most relevant results found in the provider\\'s domain (those sites which the engine has knowledge of), without manipulating the order of the results (except to rank them by relevance), excluding results, or in any other way manipulating the results to a certain bias. \\nSearch neutrality is related to network neutrality in that they both aim to keep any one organization from limiting or altering a user\\'s access to services on the Internet. Search neutrality aims to keep the organic search results (results returned because of their relevance to the search terms, as opposed to results sponsored by advertising) of a search engine free from any manipulation, while network neutrality aims to keep those who provide and govern access to the Internet from limiting the availability of resources to access any given content.\\nThe term \"search neutrality\" in context of the internet appears as early as March 2009 in an academic paper by Andrew Odlyzko titled, \"Network Neutrality, Search Neutrality, and the Never-ending Conflict between Efficiency and Fairness in Markets\".[2] In this paper, Odlykzo predicts that if net neutrality were to be accepted as a legal or regulatory principle, then the questions surrounding search neutrality would be the next controversies. Indeed, in December 2009 the New York Times published an opinion letter by Foundem co-founder and lead complainant in an anti-trust complaint against Google, Adam Raff, which likely brought the term to the broader public. According to Raff in his opinion letter, search neutrality ought to be \"the principle that search engines should have no editorial policies other than that their results be comprehensive, impartial and based solely on relevance\".[1]  On October 11, 2009, Adam and his wife Shivaun launched SearchNeutrality.org, an initiative dedicated to promoting investigations against Google\\'s search engine practices.[3] There, the Raffs note that they chose to frame their issue with Google as \"search neutrality\" in order to benefit from the focus and interest on net neutrality.[3]\\nIn contrast to net neutrality, answers to such questions, as \"what is search neutrality?\" or \"what are appropriate legislative or regulatory principles to protect search neutrality?\", appear to have less consensus. The idea that neutrality means equal treatment, regardless of the content, comes from debates on net neutrality.[4] Neutrality in search is complicated by the fact that search engines, by design and in implementation, are not intended to be neutral or impartial. Rather, search engines and other information retrieval applications are designed to collect and store information (indexing), receive a query from a user, search for and filter relevant information based on that query (searching/filtering), and then present the user with only a subset of those results, which are ranked from most relevant to least relevant (ranking). \"Relevance\" is a form of bias used to favor some results and rank those favored results. Relevance is defined in the search engine so that a user is satisfied with the results and is therefore subject to the user\\'s preferences. And because relevance is so subjective, putting search neutrality into practice has been so contentious.\\nSearch neutrality became a concern after search engines, most notably Google, were accused of search bias by other companies.[5] Competitors and companies claim search engines systematically favor some sites (and some kind of sites) over others in their lists of results, disrupting the objective results users believe they are getting.[6]\\nThe call for search neutrality goes beyond traditional search engines. Sites like Amazon.com and Facebook are also accused of skewing results.[7] Amazon\\'s search results are influenced by companies that pay to rank higher in their search results while Facebook filters their newsfeed lists to conduct social experiments.[7]\\nIn order to find information on the Web, most users make use of search engines, which crawl the web, index it and show a list of results ordered by relevance. The use of search engines to access information through the web has become a key factor for online businesses, which depend on the flow of users visiting their pages.[8] One of these companies is Foundem. Foundem provides a \"vertical search\" service to compare products available on online markets for the U.K. Many people see these \"vertical search\" sites as spam.[9] Beginning in 2006 and for three and a half years following, Foundem\\'s traffic and business dropped significantly due to what they assert to be a penalty deliberately applied by Google.[10] It is unclear, however, whether their claim of a penalty was self-imposed via their use of iframe HTML tags to embed the content from other websites.  At the time at which Foundem claims the penalties were imposed, it was unclear whether web crawlers crawled beyond the main page of a website using iframe tags without some extra modifications. The former SEO director OMD UK, Jaamit Durrani, among others, offered this alternative explanation, stating that “Two of the major issues that Foundem had in summer was content in iFrames and content requiring javascript to load – both of which I looked at in August, and they were definitely in place. Both are huge barriers to search visibility in my book. They have been fixed somewhere between then and the lifting of the supposed ‘penalty’. I don\\'t think that\\'s a coincidence.”[11]\\nMost of Foundem’s accusations claim that Google deliberately applies penalties to other vertical search engines because they represent competition.[12] Foundem is backed by a Microsoft proxy group, the \\'Initiative for Competitive Online Marketplace\\'.[13]\\nThe following table details Foundem\\'s chronology of events as found on their website:[14]\\nGoogle\\'s large market share (85%) has made them a target for search neutrality litigation via antitrust laws.[15] In February 2010, Google released an article on the Google Public Policy blog expressing their concern for fair competition, when other companies at the UK joined Foundem\\'s cause (eJustice.fr, and Microsoft\\'s Ciao! from Bing) also claiming being unfairly penalized by Google.[12]\\nAfter two years of looking into claims that Google “manipulated its search algorithms to harm vertical websites and unfairly promote its own competing vertical properties,” the Federal Trade Commission (FTC) voted unanimously to end the antitrust portion of its investigation without filing a formal complaint against Google.[16] The FTC concluded that Google\\'s “practice of favoring its own content in the presentation of search results” did not violate U.S. antitrust laws.[5] The FTC further determined that even though competitors might be negatively impacted by Google\\'s changing algorithms, Google did not change its algorithms to hurt competitors, but as a product improvement to benefit consumers.[5]\\nThere are a number of arguments for and against search neutrality.\\nAccording to the Net Neutrality Institute, as of 2018, Google’s \"Universal Search\" system[21] uses by far the least neutral search engine practices, and following the implementation of Universal Search, websites such as MapQuest experienced a massive decline in web traffic. This decline has been attributed to Google linking to its own services rather than the services offered at external websites.[22][23] Despite these claims, Microsoft\\'s Bing displays Microsoft content in first place more than twice as often as Google shows Google content in first place. This indicates that as far as there is any \\'bias\\', Google is less biased than its principal competitor. However, Google still remains extremely biased with a liberal emphasis as evidenced by 100% of all political related searches that provide top results in which are associated with 100% liberally biased sites and references. [24]\\n'"
            ],
            "application/vnd.google.colaboratory.intrinsic+json": {
              "type": "string"
            }
          },
          "metadata": {},
          "execution_count": 10
        }
      ]
    },
    {
      "cell_type": "markdown",
      "source": [
        "## **Step 2:** Document Processing"
      ],
      "metadata": {
        "id": "0Vx6q_CT0895"
      }
    },
    {
      "cell_type": "code",
      "execution_count": null,
      "metadata": {
        "id": "DjXHBQlpn5cK"
      },
      "outputs": [],
      "source": [
        "first_sentences = []\n",
        "for index, _ in enumerate(text_db):\n",
        "    sentence = str(text_db[index].split()[:23])\n",
        "    first_sentences.append(sentence)"
      ]
    },
    {
      "cell_type": "markdown",
      "source": [
        "##Show Example First Sentence"
      ],
      "metadata": {
        "id": "nOdelfGn2qlB"
      }
    },
    {
      "cell_type": "code",
      "execution_count": null,
      "metadata": {
        "id": "C1D3LBt8n5cL",
        "outputId": "6196dfea-6db8-4495-9c35-1ff8d657b085",
        "colab": {
          "base_uri": "https://localhost:8080/",
          "height": 53
        }
      },
      "outputs": [
        {
          "output_type": "execute_result",
          "data": {
            "text/plain": [
              "\"['Search', 'neutrality', 'is', 'a', 'principle', 'that', 'search', 'engines', 'should', 'have', 'no', 'editorial', 'policies', 'other', 'than', 'that', 'their', 'results', 'be', 'comprehensive,', 'impartial', 'and', 'based']\""
            ],
            "application/vnd.google.colaboratory.intrinsic+json": {
              "type": "string"
            }
          },
          "metadata": {},
          "execution_count": 17
        }
      ],
      "source": [
        "first_sentences[150] #keyword research example, first sentence"
      ]
    },
    {
      "cell_type": "markdown",
      "source": [
        "## Define Stopwards For Removal"
      ],
      "metadata": {
        "id": "kIJ6ct0e3VP4"
      }
    },
    {
      "cell_type": "code",
      "execution_count": null,
      "metadata": {
        "id": "AKuptjYRn5cN",
        "outputId": "958d20ae-59c3-48c5-b1a4-61979ddd2add",
        "colab": {
          "base_uri": "https://localhost:8080/"
        }
      },
      "outputs": [
        {
          "output_type": "stream",
          "name": "stderr",
          "text": [
            "[nltk_data] Downloading package stopwords to /root/nltk_data...\n",
            "[nltk_data]   Unzipping corpora/stopwords.zip.\n"
          ]
        }
      ],
      "source": [
        "import nltk\n",
        "nltk.download('stopwords')\n",
        "from nltk.corpus import stopwords\n",
        "stop_words = stopwords.words('english')"
      ]
    },
    {
      "cell_type": "markdown",
      "source": [
        "## Show Stopwords"
      ],
      "metadata": {
        "id": "He0jtjvw7kBH"
      }
    },
    {
      "cell_type": "code",
      "source": [
        "print(stop_words)"
      ],
      "metadata": {
        "id": "3uxlT2hX3m9A",
        "outputId": "a7c07c07-7406-425e-bf6d-81cf07bf1e44",
        "colab": {
          "base_uri": "https://localhost:8080/"
        }
      },
      "execution_count": null,
      "outputs": [
        {
          "output_type": "stream",
          "name": "stdout",
          "text": [
            "['i', 'me', 'my', 'myself', 'we', 'our', 'ours', 'ourselves', 'you', \"you're\", \"you've\", \"you'll\", \"you'd\", 'your', 'yours', 'yourself', 'yourselves', 'he', 'him', 'his', 'himself', 'she', \"she's\", 'her', 'hers', 'herself', 'it', \"it's\", 'its', 'itself', 'they', 'them', 'their', 'theirs', 'themselves', 'what', 'which', 'who', 'whom', 'this', 'that', \"that'll\", 'these', 'those', 'am', 'is', 'are', 'was', 'were', 'be', 'been', 'being', 'have', 'has', 'had', 'having', 'do', 'does', 'did', 'doing', 'a', 'an', 'the', 'and', 'but', 'if', 'or', 'because', 'as', 'until', 'while', 'of', 'at', 'by', 'for', 'with', 'about', 'against', 'between', 'into', 'through', 'during', 'before', 'after', 'above', 'below', 'to', 'from', 'up', 'down', 'in', 'out', 'on', 'off', 'over', 'under', 'again', 'further', 'then', 'once', 'here', 'there', 'when', 'where', 'why', 'how', 'all', 'any', 'both', 'each', 'few', 'more', 'most', 'other', 'some', 'such', 'no', 'nor', 'not', 'only', 'own', 'same', 'so', 'than', 'too', 'very', 's', 't', 'can', 'will', 'just', 'don', \"don't\", 'should', \"should've\", 'now', 'd', 'll', 'm', 'o', 're', 've', 'y', 'ain', 'aren', \"aren't\", 'couldn', \"couldn't\", 'didn', \"didn't\", 'doesn', \"doesn't\", 'hadn', \"hadn't\", 'hasn', \"hasn't\", 'haven', \"haven't\", 'isn', \"isn't\", 'ma', 'mightn', \"mightn't\", 'mustn', \"mustn't\", 'needn', \"needn't\", 'shan', \"shan't\", 'shouldn', \"shouldn't\", 'wasn', \"wasn't\", 'weren', \"weren't\", 'won', \"won't\", 'wouldn', \"wouldn't\"]\n"
          ]
        }
      ]
    },
    {
      "cell_type": "markdown",
      "source": [
        "## Calculate TF-IDF Matrix To Build Index"
      ],
      "metadata": {
        "id": "TdtnW5R74oq3"
      }
    },
    {
      "cell_type": "code",
      "execution_count": null,
      "metadata": {
        "id": "Dcytshm0n5cN",
        "outputId": "0288241c-b2d3-41ac-8d59-3cdc5ac60cf8",
        "colab": {
          "base_uri": "https://localhost:8080/"
        }
      },
      "outputs": [
        {
          "output_type": "stream",
          "name": "stderr",
          "text": [
            "/usr/local/lib/python3.7/dist-packages/sklearn/utils/deprecation.py:87: FutureWarning: Function get_feature_names is deprecated; get_feature_names is deprecated in 1.0 and will be removed in 1.2. Please use get_feature_names_out instead.\n",
            "  warnings.warn(msg, category=FutureWarning)\n"
          ]
        }
      ],
      "source": [
        "import pandas as pd\n",
        "from sklearn.feature_extraction.text import TfidfVectorizer\n",
        "vec = TfidfVectorizer(stop_words=stop_words, ngram_range=(1,1), use_idf=True, max_features=500)\n",
        "tf_idf =  vec.fit_transform(first_sentences)\n",
        "index_df = pd.DataFrame(tf_idf.toarray(), columns=vec.get_feature_names(), index=pages_db)\n",
        "keywords = index_df.columns\n",
        "queryTFIDF = TfidfVectorizer(stop_words=stop_words, ngram_range=(1,1), use_idf=True, max_features=500).fit(keywords)"
      ]
    },
    {
      "cell_type": "markdown",
      "source": [
        "## Show Example Index Entry"
      ],
      "metadata": {
        "id": "GZLBR_-N460m"
      }
    },
    {
      "cell_type": "code",
      "execution_count": null,
      "metadata": {
        "id": "0GH3HFy5n5cQ",
        "outputId": "d6b1a0a4-bdcf-4211-ddd3-4d1b8801668e",
        "colab": {
          "base_uri": "https://localhost:8080/",
          "height": 2377
        }
      },
      "outputs": [
        {
          "output_type": "execute_result",
          "data": {
            "text/plain": [
              "         Search neutrality\n",
              "10                     0.0\n",
              "13                     0.0\n",
              "14                     0.0\n",
              "1972                   0.0\n",
              "1973                   0.0\n",
              "...                    ...\n",
              "working                0.0\n",
              "world                  0.0\n",
              "yahoo                  0.0\n",
              "year                   0.0\n",
              "york                   0.0\n",
              "\n",
              "[500 rows x 1 columns]"
            ],
            "text/html": [
              "\n",
              "  <div id=\"df-121d641a-2c1f-4538-b01a-8025b296f092\">\n",
              "    <div class=\"colab-df-container\">\n",
              "      <div>\n",
              "<style scoped>\n",
              "    .dataframe tbody tr th:only-of-type {\n",
              "        vertical-align: middle;\n",
              "    }\n",
              "\n",
              "    .dataframe tbody tr th {\n",
              "        vertical-align: top;\n",
              "    }\n",
              "\n",
              "    .dataframe thead th {\n",
              "        text-align: right;\n",
              "    }\n",
              "</style>\n",
              "<table border=\"1\" class=\"dataframe\">\n",
              "  <thead>\n",
              "    <tr style=\"text-align: right;\">\n",
              "      <th></th>\n",
              "      <th>Search neutrality</th>\n",
              "    </tr>\n",
              "  </thead>\n",
              "  <tbody>\n",
              "    <tr>\n",
              "      <th>10</th>\n",
              "      <td>0.0</td>\n",
              "    </tr>\n",
              "    <tr>\n",
              "      <th>13</th>\n",
              "      <td>0.0</td>\n",
              "    </tr>\n",
              "    <tr>\n",
              "      <th>14</th>\n",
              "      <td>0.0</td>\n",
              "    </tr>\n",
              "    <tr>\n",
              "      <th>1972</th>\n",
              "      <td>0.0</td>\n",
              "    </tr>\n",
              "    <tr>\n",
              "      <th>1973</th>\n",
              "      <td>0.0</td>\n",
              "    </tr>\n",
              "    <tr>\n",
              "      <th>...</th>\n",
              "      <td>...</td>\n",
              "    </tr>\n",
              "    <tr>\n",
              "      <th>working</th>\n",
              "      <td>0.0</td>\n",
              "    </tr>\n",
              "    <tr>\n",
              "      <th>world</th>\n",
              "      <td>0.0</td>\n",
              "    </tr>\n",
              "    <tr>\n",
              "      <th>yahoo</th>\n",
              "      <td>0.0</td>\n",
              "    </tr>\n",
              "    <tr>\n",
              "      <th>year</th>\n",
              "      <td>0.0</td>\n",
              "    </tr>\n",
              "    <tr>\n",
              "      <th>york</th>\n",
              "      <td>0.0</td>\n",
              "    </tr>\n",
              "  </tbody>\n",
              "</table>\n",
              "<p>500 rows × 1 columns</p>\n",
              "</div>\n",
              "      <button class=\"colab-df-convert\" onclick=\"convertToInteractive('df-121d641a-2c1f-4538-b01a-8025b296f092')\"\n",
              "              title=\"Convert this dataframe to an interactive table.\"\n",
              "              style=\"display:none;\">\n",
              "        \n",
              "  <svg xmlns=\"http://www.w3.org/2000/svg\" height=\"24px\"viewBox=\"0 0 24 24\"\n",
              "       width=\"24px\">\n",
              "    <path d=\"M0 0h24v24H0V0z\" fill=\"none\"/>\n",
              "    <path d=\"M18.56 5.44l.94 2.06.94-2.06 2.06-.94-2.06-.94-.94-2.06-.94 2.06-2.06.94zm-11 1L8.5 8.5l.94-2.06 2.06-.94-2.06-.94L8.5 2.5l-.94 2.06-2.06.94zm10 10l.94 2.06.94-2.06 2.06-.94-2.06-.94-.94-2.06-.94 2.06-2.06.94z\"/><path d=\"M17.41 7.96l-1.37-1.37c-.4-.4-.92-.59-1.43-.59-.52 0-1.04.2-1.43.59L10.3 9.45l-7.72 7.72c-.78.78-.78 2.05 0 2.83L4 21.41c.39.39.9.59 1.41.59.51 0 1.02-.2 1.41-.59l7.78-7.78 2.81-2.81c.8-.78.8-2.07 0-2.86zM5.41 20L4 18.59l7.72-7.72 1.47 1.35L5.41 20z\"/>\n",
              "  </svg>\n",
              "      </button>\n",
              "      \n",
              "  <style>\n",
              "    .colab-df-container {\n",
              "      display:flex;\n",
              "      flex-wrap:wrap;\n",
              "      gap: 12px;\n",
              "    }\n",
              "\n",
              "    .colab-df-convert {\n",
              "      background-color: #E8F0FE;\n",
              "      border: none;\n",
              "      border-radius: 50%;\n",
              "      cursor: pointer;\n",
              "      display: none;\n",
              "      fill: #1967D2;\n",
              "      height: 32px;\n",
              "      padding: 0 0 0 0;\n",
              "      width: 32px;\n",
              "    }\n",
              "\n",
              "    .colab-df-convert:hover {\n",
              "      background-color: #E2EBFA;\n",
              "      box-shadow: 0px 1px 2px rgba(60, 64, 67, 0.3), 0px 1px 3px 1px rgba(60, 64, 67, 0.15);\n",
              "      fill: #174EA6;\n",
              "    }\n",
              "\n",
              "    [theme=dark] .colab-df-convert {\n",
              "      background-color: #3B4455;\n",
              "      fill: #D2E3FC;\n",
              "    }\n",
              "\n",
              "    [theme=dark] .colab-df-convert:hover {\n",
              "      background-color: #434B5C;\n",
              "      box-shadow: 0px 1px 3px 1px rgba(0, 0, 0, 0.15);\n",
              "      filter: drop-shadow(0px 1px 2px rgba(0, 0, 0, 0.3));\n",
              "      fill: #FFFFFF;\n",
              "    }\n",
              "  </style>\n",
              "\n",
              "      <script>\n",
              "        const buttonEl =\n",
              "          document.querySelector('#df-121d641a-2c1f-4538-b01a-8025b296f092 button.colab-df-convert');\n",
              "        buttonEl.style.display =\n",
              "          google.colab.kernel.accessAllowed ? 'block' : 'none';\n",
              "\n",
              "        async function convertToInteractive(key) {\n",
              "          const element = document.querySelector('#df-121d641a-2c1f-4538-b01a-8025b296f092');\n",
              "          const dataTable =\n",
              "            await google.colab.kernel.invokeFunction('convertToInteractive',\n",
              "                                                     [key], {});\n",
              "          if (!dataTable) return;\n",
              "\n",
              "          const docLinkHtml = 'Like what you see? Visit the ' +\n",
              "            '<a target=\"_blank\" href=https://colab.research.google.com/notebooks/data_table.ipynb>data table notebook</a>'\n",
              "            + ' to learn more about interactive tables.';\n",
              "          element.innerHTML = '';\n",
              "          dataTable['output_type'] = 'display_data';\n",
              "          await google.colab.output.renderOutput(dataTable, element);\n",
              "          const docLink = document.createElement('div');\n",
              "          docLink.innerHTML = docLinkHtml;\n",
              "          element.appendChild(docLink);\n",
              "        }\n",
              "      </script>\n",
              "    </div>\n",
              "  </div>\n",
              "  "
            ]
          },
          "metadata": {},
          "execution_count": 20
        }
      ],
      "source": [
        "kw_research_tfidf_df = pd.DataFrame(index_df.iloc[150])\n",
        "kw_research_tfidf_df"
      ]
    },
    {
      "cell_type": "markdown",
      "metadata": {
        "id": "qTJ9DADIn5cR"
      },
      "source": [
        "##**Step 3**: The Index"
      ]
    },
    {
      "cell_type": "code",
      "source": [
        "from sklearn.metrics.pairwise import cosine_similarity\n",
        "from numpy import *\n",
        "from matplotlib.pyplot import *\n",
        "import re\n",
        "try:\n",
        "    print()\n",
        "    query = input('Enter Search Term: ')\n",
        "    print()\n",
        "    query_vector = queryTFIDF.transform([query])\n",
        "    query_vector_df = pd.DataFrame.sparse.from_spmatrix(data = query_vector)\n",
        "    cos_sim = cosine_similarity(query_vector_df, index_df)\n",
        "    cosine_similarity_df = pd.DataFrame(cos_sim, columns = [pages_db], index = ['confidence'])\n",
        "    cosine_similarity_df = cosine_similarity_df.T.sort_values(by='confidence', ascending = False)\n",
        "    cosine_similarity_df  = cosine_similarity_df.loc[~(cosine_similarity_df==0).all(axis=1)]\n",
        "    print(cosine_similarity_df[:5])\n",
        "    print()\n",
        "    print()\n",
        "    theta = np.arccos(cosine_similarity_df.iloc[0].to_numpy()[0])*57.2958\n",
        "    t = linspace(0,theta,360)\n",
        "    r=10\n",
        "    l=60\n",
        "    x = r*cos(radians(t))\n",
        "    y = r*sin(radians(t))\n",
        "    a=([0,l,0,l*cos(radians(theta))])\n",
        "    b=([0,0,0,l*sin(radians(theta))])\n",
        "    figure(figsize=(10, 10))\n",
        "    xticks([])\n",
        "    yticks([])\n",
        "    text(10, 5, f\"{theta:.2f}°\", fontsize=20)\n",
        "    plot(x,y,a,b)\n",
        "    m = re.search(r\"'(.*?)'\", str(cosine_similarity_df.index[0]))\n",
        "    title(f'{query} vs {m.group(1)}', fontdict={'fontsize': 50}, pad=20)\n",
        "    axis('equal')\n",
        "    show()\n",
        "except:\n",
        "    print('Oops! Well that didnt work!')"
      ],
      "metadata": {
        "colab": {
          "base_uri": "https://localhost:8080/",
          "height": 831
        },
        "id": "Qo45vFnrMfII",
        "outputId": "fe601670-62a7-4170-ef8a-9dce2856b00f"
      },
      "execution_count": null,
      "outputs": [
        {
          "output_type": "stream",
          "name": "stdout",
          "text": [
            "\n",
            "Enter Search Term: google\n",
            "\n",
            "                       confidence\n",
            "Google Search            0.646445\n",
            "Google I/O               0.527064\n",
            "Google Chrome            0.447989\n",
            "Google Search Console    0.404496\n",
            "AltaVista                0.382178\n",
            "\n",
            "\n"
          ]
        },
        {
          "output_type": "display_data",
          "data": {
            "text/plain": [
              "<Figure size 720x720 with 1 Axes>"
            ],
            "image/png": "[encoded data removed]"
          },
          "metadata": {}
        }
      ]
    }
  ],
  "metadata": {
    "interpreter": {
      "hash": "6f523eb3b4dd0b31ebd4e148dd0d725b3d98dd7537ecac3e4bde2e75db4902e7"
    },
    "kernelspec": {
      "display_name": "Python 3.8.10 ('tf_idf_clustering-zkPsFiG5')",
      "language": "python",
      "name": "python3"
    },
    "language_info": {
      "codemirror_mode": {
        "name": "ipython",
        "version": 3
      },
      "file_extension": ".py",
      "mimetype": "text/x-python",
      "name": "python",
      "nbconvert_exporter": "python",
      "pygments_lexer": "ipython3",
      "version": "3.8.10"
    },
    "orig_nbformat": 4,
    "colab": {
      "provenance": []
    },
    "widgets": {
      "application/vnd.jupyter.widget-state+json": {
        "6f1801fcfbd142fba939e25743f2cdef": {
          "model_module": "@jupyter-widgets/controls",
          "model_name": "HBoxModel",
          "model_module_version": "1.5.0",
          "state": {
            "_dom_classes": [],
            "_model_module": "@jupyter-widgets/controls",
            "_model_module_version": "1.5.0",
            "_model_name": "HBoxModel",
            "_view_count": null,
            "_view_module": "@jupyter-widgets/controls",
            "_view_module_version": "1.5.0",
            "_view_name": "HBoxView",
            "box_style": "",
            "children": [
              "IPY_MODEL_876852482a654e4aa435881b7ef423d0",
              "IPY_MODEL_6ba875cbdaca42ae94b5f1c9368ddb45",
              "IPY_MODEL_af6655fc084a45f1be7569172650f50c"
            ],
            "layout": "IPY_MODEL_24657ed68b684d608478eac9667bc491"
          }
        },
        "876852482a654e4aa435881b7ef423d0": {
          "model_module": "@jupyter-widgets/controls",
          "model_name": "HTMLModel",
          "model_module_version": "1.5.0",
          "state": {
            "_dom_classes": [],
            "_model_module": "@jupyter-widgets/controls",
            "_model_module_version": "1.5.0",
            "_model_name": "HTMLModel",
            "_view_count": null,
            "_view_module": "@jupyter-widgets/controls",
            "_view_module_version": "1.5.0",
            "_view_name": "HTMLView",
            "description": "",
            "description_tooltip": null,
            "layout": "IPY_MODEL_db2f3bf088234376b5c553e00aa122b2",
            "placeholder": "​",
            "style": "IPY_MODEL_13125d759a3949d5a341bfdc2c14ba67",
            "value": "100%"
          }
        },
        "6ba875cbdaca42ae94b5f1c9368ddb45": {
          "model_module": "@jupyter-widgets/controls",
          "model_name": "FloatProgressModel",
          "model_module_version": "1.5.0",
          "state": {
            "_dom_classes": [],
            "_model_module": "@jupyter-widgets/controls",
            "_model_module_version": "1.5.0",
            "_model_name": "FloatProgressModel",
            "_view_count": null,
            "_view_module": "@jupyter-widgets/controls",
            "_view_module_version": "1.5.0",
            "_view_name": "ProgressView",
            "bar_style": "success",
            "description": "",
            "description_tooltip": null,
            "layout": "IPY_MODEL_5dff69d5215d480a8f07afb3dfefe0ce",
            "max": 181,
            "min": 0,
            "orientation": "horizontal",
            "style": "IPY_MODEL_6f6d3bb749e74952bed0e36790e07502",
            "value": 181
          }
        },
        "af6655fc084a45f1be7569172650f50c": {
          "model_module": "@jupyter-widgets/controls",
          "model_name": "HTMLModel",
          "model_module_version": "1.5.0",
          "state": {
            "_dom_classes": [],
            "_model_module": "@jupyter-widgets/controls",
            "_model_module_version": "1.5.0",
            "_model_name": "HTMLModel",
            "_view_count": null,
            "_view_module": "@jupyter-widgets/controls",
            "_view_module_version": "1.5.0",
            "_view_name": "HTMLView",
            "description": "",
            "description_tooltip": null,
            "layout": "IPY_MODEL_9287d8ebeea44143a1b7a9930b885496",
            "placeholder": "​",
            "style": "IPY_MODEL_bcd727b10a634a3f9fe92c5a466b37a0",
            "value": " 181/181 [03:10&lt;00:00,  1.13s/it]"
          }
        },
        "24657ed68b684d608478eac9667bc491": {
          "model_module": "@jupyter-widgets/base",
          "model_name": "LayoutModel",
          "model_module_version": "1.2.0",
          "state": {
            "_model_module": "@jupyter-widgets/base",
            "_model_module_version": "1.2.0",
            "_model_name": "LayoutModel",
            "_view_count": null,
            "_view_module": "@jupyter-widgets/base",
            "_view_module_version": "1.2.0",
            "_view_name": "LayoutView",
            "align_content": null,
            "align_items": null,
            "align_self": null,
            "border": null,
            "bottom": null,
            "display": null,
            "flex": null,
            "flex_flow": null,
            "grid_area": null,
            "grid_auto_columns": null,
            "grid_auto_flow": null,
            "grid_auto_rows": null,
            "grid_column": null,
            "grid_gap": null,
            "grid_row": null,
            "grid_template_areas": null,
            "grid_template_columns": null,
            "grid_template_rows": null,
            "height": null,
            "justify_content": null,
            "justify_items": null,
            "left": null,
            "margin": null,
            "max_height": null,
            "max_width": null,
            "min_height": null,
            "min_width": null,
            "object_fit": null,
            "object_position": null,
            "order": null,
            "overflow": null,
            "overflow_x": null,
            "overflow_y": null,
            "padding": null,
            "right": null,
            "top": null,
            "visibility": null,
            "width": null
          }
        },
        "db2f3bf088234376b5c553e00aa122b2": {
          "model_module": "@jupyter-widgets/base",
          "model_name": "LayoutModel",
          "model_module_version": "1.2.0",
          "state": {
            "_model_module": "@jupyter-widgets/base",
            "_model_module_version": "1.2.0",
            "_model_name": "LayoutModel",
            "_view_count": null,
            "_view_module": "@jupyter-widgets/base",
            "_view_module_version": "1.2.0",
            "_view_name": "LayoutView",
            "align_content": null,
            "align_items": null,
            "align_self": null,
            "border": null,
            "bottom": null,
            "display": null,
            "flex": null,
            "flex_flow": null,
            "grid_area": null,
            "grid_auto_columns": null,
            "grid_auto_flow": null,
            "grid_auto_rows": null,
            "grid_column": null,
            "grid_gap": null,
            "grid_row": null,
            "grid_template_areas": null,
            "grid_template_columns": null,
            "grid_template_rows": null,
            "height": null,
            "justify_content": null,
            "justify_items": null,
            "left": null,
            "margin": null,
            "max_height": null,
            "max_width": null,
            "min_height": null,
            "min_width": null,
            "object_fit": null,
            "object_position": null,
            "order": null,
            "overflow": null,
            "overflow_x": null,
            "overflow_y": null,
            "padding": null,
            "right": null,
            "top": null,
            "visibility": null,
            "width": null
          }
        },
        "13125d759a3949d5a341bfdc2c14ba67": {
          "model_module": "@jupyter-widgets/controls",
          "model_name": "DescriptionStyleModel",
          "model_module_version": "1.5.0",
          "state": {
            "_model_module": "@jupyter-widgets/controls",
            "_model_module_version": "1.5.0",
            "_model_name": "DescriptionStyleModel",
            "_view_count": null,
            "_view_module": "@jupyter-widgets/base",
            "_view_module_version": "1.2.0",
            "_view_name": "StyleView",
            "description_width": ""
          }
        },
        "5dff69d5215d480a8f07afb3dfefe0ce": {
          "model_module": "@jupyter-widgets/base",
          "model_name": "LayoutModel",
          "model_module_version": "1.2.0",
          "state": {
            "_model_module": "@jupyter-widgets/base",
            "_model_module_version": "1.2.0",
            "_model_name": "LayoutModel",
            "_view_count": null,
            "_view_module": "@jupyter-widgets/base",
            "_view_module_version": "1.2.0",
            "_view_name": "LayoutView",
            "align_content": null,
            "align_items": null,
            "align_self": null,
            "border": null,
            "bottom": null,
            "display": null,
            "flex": null,
            "flex_flow": null,
            "grid_area": null,
            "grid_auto_columns": null,
            "grid_auto_flow": null,
            "grid_auto_rows": null,
            "grid_column": null,
            "grid_gap": null,
            "grid_row": null,
            "grid_template_areas": null,
            "grid_template_columns": null,
            "grid_template_rows": null,
            "height": null,
            "justify_content": null,
            "justify_items": null,
            "left": null,
            "margin": null,
            "max_height": null,
            "max_width": null,
            "min_height": null,
            "min_width": null,
            "object_fit": null,
            "object_position": null,
            "order": null,
            "overflow": null,
            "overflow_x": null,
            "overflow_y": null,
            "padding": null,
            "right": null,
            "top": null,
            "visibility": null,
            "width": null
          }
        },
        "6f6d3bb749e74952bed0e36790e07502": {
          "model_module": "@jupyter-widgets/controls",
          "model_name": "ProgressStyleModel",
          "model_module_version": "1.5.0",
          "state": {
            "_model_module": "@jupyter-widgets/controls",
            "_model_module_version": "1.5.0",
            "_model_name": "ProgressStyleModel",
            "_view_count": null,
            "_view_module": "@jupyter-widgets/base",
            "_view_module_version": "1.2.0",
            "_view_name": "StyleView",
            "bar_color": null,
            "description_width": ""
          }
        },
        "9287d8ebeea44143a1b7a9930b885496": {
          "model_module": "@jupyter-widgets/base",
          "model_name": "LayoutModel",
          "model_module_version": "1.2.0",
          "state": {
            "_model_module": "@jupyter-widgets/base",
            "_model_module_version": "1.2.0",
            "_model_name": "LayoutModel",
            "_view_count": null,
            "_view_module": "@jupyter-widgets/base",
            "_view_module_version": "1.2.0",
            "_view_name": "LayoutView",
            "align_content": null,
            "align_items": null,
            "align_self": null,
            "border": null,
            "bottom": null,
            "display": null,
            "flex": null,
            "flex_flow": null,
            "grid_area": null,
            "grid_auto_columns": null,
            "grid_auto_flow": null,
            "grid_auto_rows": null,
            "grid_column": null,
            "grid_gap": null,
            "grid_row": null,
            "grid_template_areas": null,
            "grid_template_columns": null,
            "grid_template_rows": null,
            "height": null,
            "justify_content": null,
            "justify_items": null,
            "left": null,
            "margin": null,
            "max_height": null,
            "max_width": null,
            "min_height": null,
            "min_width": null,
            "object_fit": null,
            "object_position": null,
            "order": null,
            "overflow": null,
            "overflow_x": null,
            "overflow_y": null,
            "padding": null,
            "right": null,
            "top": null,
            "visibility": null,
            "width": null
          }
        },
        "bcd727b10a634a3f9fe92c5a466b37a0": {
          "model_module": "@jupyter-widgets/controls",
          "model_name": "DescriptionStyleModel",
          "model_module_version": "1.5.0",
          "state": {
            "_model_module": "@jupyter-widgets/controls",
            "_model_module_version": "1.5.0",
            "_model_name": "DescriptionStyleModel",
            "_view_count": null,
            "_view_module": "@jupyter-widgets/base",
            "_view_module_version": "1.2.0",
            "_view_name": "StyleView",
            "description_width": ""
          }
        }
      }
    }
  },
  "nbformat": 4,
  "nbformat_minor": 0
}